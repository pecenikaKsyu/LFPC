{
  "metadata": {
    "language_info": {
      "codemirror_mode": {
        "name": "python",
        "version": 3
      },
      "file_extension": ".py",
      "mimetype": "text/x-python",
      "name": "python",
      "nbconvert_exporter": "python",
      "pygments_lexer": "ipython3",
      "version": "3.8"
    },
    "kernelspec": {
      "name": "python",
      "display_name": "Pyolite",
      "language": "python"
    }
  },
  "nbformat_minor": 4,
  "nbformat": 4,
  "cells": [
    {
      "cell_type": "code",
      "source": "# Importing all needed libraries.\nfrom string import ascii_uppercase\nfrom operator import and_\nfrom functools import reduce",
      "metadata": {
        "trusted": true
      },
      "execution_count": 2,
      "outputs": []
    },
    {
      "cell_type": "code",
      "source": "class Grammar:\n    def __init__(self, Vn, Vt, P, S):\n        self.Vn = Vn\n        self.Vt = Vt\n        self.P = P\n        self.S = S\n        self.free_uppercase = [letter for letter in ascii_uppercase if letter not in self.Vn]\n    \n    def __initial_state_S0(self):\n        __initial_state_S0 = False\n        for i in range(len(self.P)):\n            if self.P[i][0] == self.S:\n                __initial_state_S0 = True\n        if __initial_state_S0:\n            self.P.append(('S0', self.S))\n            self.S = 'S0'\n    \n    def __eliminate_terminals(self):\n        eliminations = set()\n        for production in self.P:\n            eliminations.update(set(production[1]).intersection(set(self.Vt)))\n        eliminations = list(eliminations)\n        for production in self.P:\n            if production[1] in self.Vt and production[1] in eliminations:\n                eliminations.remove(production[1])\n        for element in eliminations:\n            self.P.append((self.free_uppercase[0], element))\n            self.free_uppercase.pop(0)\n        back_mapping = dict()\n        for i in range(len(self.P)):\n            if self.P[i][1] in self.Vt:\n                back_mapping[self.P[i][1]] = self.P[i][0]\n        for i in range(len(self.P)):\n            for key in back_mapping:\n                if key in self.P[i][1] and len(self.P[i][1]) > 1:\n                    self.P[i][1] = self.P[i][1].replace(key, back_mapping[key])\n    \n    def __eliminate2plus__(self):\n        while True:\n            with_2s = []\n            with_2plus = []\n            for i in range(len(self.P)):\n                if len(self.P[i][1]) == 2:\n                    with_2s.append(i)\n                elif len(self.P[i][1]) > 2:\n                    with_2plus.append(i)\n            if len(with_2plus) == 0:\n                break\n            for i in with_2s:\n                for j in with_2plus:\n                    if self.P[i][1] in self.P[j][1] and i != j:\n                        self.P[j][1] = self.P[j][1].replace(self.P[i][1], self.P[i][0])\n            if len(with_2plus) != 0:\n                substr = []\n                for i in with_2plus:\n                    substr.append([])\n                    for j in range(len(self.P[i][1]) -1):\n                        substr[-1].append(self.P[i][1][j:j+2])\n                substr = [set(sub) for sub in substr]\n                com_str = list(reduce(and_, substr))\n                for com_str in com_str:\n                    self.P.append([self.free_uppercase[0], com_str])\n                    self.free_uppercase.pop(0)\n        return self.P\n    \n    def to_chomsky(self):\n        self.__initial_state_S0()\n        self.P = [pair for pair in self.P if pair[1] != 'epsilon']\n        self.__eliminate_terminals()\n        self.__eliminate2plus__()\n        return self.P",
      "metadata": {
        "trusted": true
      },
      "execution_count": 15,
      "outputs": []
    },
    {
      "cell_type": "code",
      "source": "dictionary = [['S', 'AC'], ['S', 'bA'], ['S', 'B'], ['S', 'aA'], ['A', 'epsilon'],\n              ['A', 'aS'], ['A', 'ABab'], ['B', 'a'], ['B', 'bS'], ['C', 'abC'], \n              ['D', 'AB']]",
      "metadata": {
        "trusted": true
      },
      "execution_count": 24,
      "outputs": []
    },
    {
      "cell_type": "code",
      "source": "Vt = ['a', 'b']\nVn = ['S', 'A', 'B', 'C', 'D']",
      "metadata": {
        "trusted": true
      },
      "execution_count": 17,
      "outputs": []
    },
    {
      "cell_type": "code",
      "source": "gr = Grammar(Vn, Vt, dictionary, 'S')",
      "metadata": {
        "trusted": true
      },
      "execution_count": 18,
      "outputs": []
    },
    {
      "cell_type": "code",
      "source": "gr.to_chomsky()",
      "metadata": {
        "trusted": true
      },
      "execution_count": 19,
      "outputs": [
        {
          "execution_count": 23,
          "output_type": "execute_result",
          "data": {
            "text/plain": "[['S', 'AB'], ['S', 'c'], ['A', 'a'], ['B', 'b'], ('S0', 'S')]"
          },
          "metadata": {}
        }
      ]
    },
    {
      "cell_type": "code",
      "source": "",
      "metadata": {},
      "execution_count": null,
      "outputs": []
    }
  ]
}